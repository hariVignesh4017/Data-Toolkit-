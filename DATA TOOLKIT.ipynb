{
 "cells": [
  {
   "cell_type": "markdown",
   "metadata": {},
   "source": [
    "#                                        DATA TOOLKIT"
   ]
  },
  {
   "cell_type": "markdown",
   "metadata": {},
   "source": [
    "# 1. What is NumPy, and why is it widely used in Python?\n",
    "# NumPy (Numerical Python) is a powerful open-source library for numerical computing in Python. It provides support for large, multi-dimensional arrays and matrices, along with a collection of mathematical functions to operate on these arrays efficiently.\n",
    "\n",
    "# Why is NumPy widely used in Python?\n",
    "1.Performance – NumPy is implemented in C and optimized for fast execution, making it significantly faster than Python lists for numerical computations.\n",
    "2.Multi-Dimensional Arrays – The ndarray object supports high-dimensional data structures that are more efficient than nested Python lists.\n",
    "3.Vectorized Operations – NumPy supports element-wise operations, reducing the need for explicit loops and improving performance.\n",
    "4.Broadcasting – It allows operations between arrays of different shapes without explicit looping or reshaping.\n",
    "5.Mathematical Functions – NumPy provides built-in mathematical and statistical functions, such as mean, median, standard deviation, trigonometric functions, 6.and more.\n",
    "7.Integration with Other Libraries – Many scientific computing and machine learning libraries (e.g., Pandas, SciPy, TensorFlow) rely on NumPy arrays.\n",
    "8.Memory Efficiency – NumPy arrays consume less memory compared to Python lists by storing elements in a contiguous memory block.\n",
    "9.Easy Data Manipulation – It provides tools for reshaping, slicing, indexing, and filtering large datasets."
   ]
  },
  {
   "cell_type": "markdown",
   "metadata": {},
   "source": [
    "# 2. How does broadcasting work in NumPy?\n",
    "# Broadcasting in NumPy allows operations between arrays of different shapes without needing explicit looping or reshaping. NumPy automatically expands smaller arrays to match the shape of larger arrays so that element-wise operations can be performed efficiently.\n",
    "# Broadcasting Rules\n",
    "When performing operations on arrays of different shapes, NumPy follows these rules:\n",
    "Match Dimensions from Right to Left – NumPy aligns arrays by comparing their shapes starting from the last (rightmost) dimension.\n",
    "Expand Singleton Dimensions – If a dimension has size 1, it is \"stretched\" to match the size of the corresponding dimension in the larger array.\n",
    "Incompatible Shapes Raise an Error – If the dimensions cannot be aligned through broadcasting, NumPy throws an error."
   ]
  },
  {
   "cell_type": "markdown",
   "metadata": {},
   "source": [
    "# 3. What is a Pandas DataFrame?\n",
    "A Pandas DataFrame is a two-dimensional, labeled data structure in Python, similar to an Excel spreadsheet or an SQL table. It consists of rows and columns, where each column can hold different data types (integers, floats, strings, etc.).\n",
    "\n",
    "Pandas is widely used in data analysis, machine learning, and scientific computing because of its powerful data manipulation capabilities."
   ]
  },
  {
   "cell_type": "markdown",
   "metadata": {},
   "source": [
    "# 4. Explain the use of the groupby() method in Pandas?\n",
    "Understanding the groupby() Method in Pandas\n",
    "The groupby() method in Pandas is used to group rows of a DataFrame based on a column or multiple columns, allowing for aggregation, transformation, and analysis of grouped data.\n",
    "\n",
    "It follows a split-apply-combine approach:\n",
    "\n",
    "Split – The data is split into groups based on a specified column.\n",
    "Apply – A function (e.g., sum, mean, count) is applied to each group.\n",
    "Combine – The results are combined into a new DataFrame."
   ]
  },
  {
   "cell_type": "markdown",
   "metadata": {},
   "source": [
    "# 5. Why is Seaborn preferred for statistical visualizations?\n",
    "# Seaborn is a Python data visualization library built on top of Matplotlib, specifically designed for statistical graphics. It provides a high-level interface for drawing attractive and informative visualizations.\n",
    "# Built-in Statistical Functions\n",
    "Seaborn integrates statistical analysis into its visualizations, making it easy to plot trends, distributions, and relationships in datasets.\n",
    "# Beautiful and Readable Visualizations\n",
    "Seaborn provides aesthetic color themes and cleaner designs compared to Matplotlib. It ensures better readability and interpretation of complex data.\n",
    "# Advanced Categorical Plots\n",
    "Seaborn makes it easy to visualize categorical data, which is tricky in Matplotlib.\n",
    "# Works Well with Pandas DataFrames\n",
    "Seaborn is designed to work seamlessly with Pandas, reducing the need for manual data processing.\n",
    "# Multiple Data Representation in One Graph\n",
    "Seaborn allows combining multiple statistical representations in a single plot.\n",
    " # Built-in Color Palettes for Better Insights\n",
    "Seaborn offers predefined color palettes for different types of data."
   ]
  },
  {
   "cell_type": "markdown",
   "metadata": {},
   "source": [
    "# 6. What are the differences between NumPy arrays and Python lists?'\n",
    "NumPy arrays (ndarray) and Python lists both store collections of data, but they differ in performance, flexibility, and functionality.\n",
    "# NumPy arrays\n",
    "Performance\tFaster -(C-optimized)\t\n",
    "Memory Efficiency-More efficient (fixed type)\t\n",
    "Data Type\t-Homogeneous (all elements must be the same type)\t\n",
    "Operations-\tSupports vectorized operations\t\n",
    "Multidimensional Support-\tSupports multi-dimensional arrays\t\n",
    "\n",
    "# Python lists\n",
    "Performance - Slower (Python loops)\n",
    "Memory Efficiency -Less efficient (heterogeneous types)\n",
    "Data Type - Heterogeneous (elements can have different types)\n",
    "Operations - Requires explicit loops for element-wise operations\n",
    "Multidimensional Support - Only supports 1D lists (nested lists for 2D)\n"
   ]
  },
  {
   "cell_type": "markdown",
   "metadata": {},
   "source": [
    "# 7.  What is a heatmap, and when should it be used?\n",
    "A heatmap is a data visualization technique that uses color intensity to represent values in a matrix or table. It helps identify patterns, correlations, and distributions within a dataset.\n",
    "When to Use a Heatmap?\n",
    " Finding correlations in datasets (e.g., sales vs. marketing spend).\n",
    " Visualizing missing data (sns.heatmap(df.isnull())).\n",
    " Identifying high/low activity zones (e.g., web heatmaps).\n",
    " Summarizing large datasets effectively.\n"
   ]
  },
  {
   "cell_type": "markdown",
   "metadata": {},
   "source": [
    "# 8. What does the term “vectorized operation” mean in NumPy?\n",
    "A vectorized operation in NumPy refers to performing operations on entire arrays without explicit loops. This is achieved using highly optimized C and Fortran libraries, making computations much faster and more efficient than traditional Python loops."
   ]
  },
  {
   "cell_type": "markdown",
   "metadata": {},
   "source": [
    "# 9. How does Matplotlib differ from Plotly?\n",
    "# Matplotlib\n",
    "Interactivity\tStatic plots (default)\n",
    "Ease of Use\tRequires more customization\t\n",
    "Customization -\tHighly customizable (manual tweaks)\n",
    "3D Support\t- Limited (via mpl_toolkits.mplot3d)\n",
    "Performance\t- Efficient for static plot\n",
    "# Plotly\n",
    "Interactivity Fully interactive plots\n",
    "Ease of Use- Simpler for interactive visualizations\n",
    "Customization -\t\tComes with built-in styles\n",
    "3D Support\t--\tStrong 3D plotting capabilities\n",
    "Performance\t- Can be slower for large datasets\n"
   ]
  },
  {
   "cell_type": "markdown",
   "metadata": {},
   "source": [
    "# 10. What is the significance of hierarchical indexing in Pandas?\n",
    "Hierarchical indexing (multi-indexing) in Pandas allows you to have multiple levels of indexing on an axis, making it easier to work with multi-dimensional data in a structured way."
   ]
  },
  {
   "cell_type": "markdown",
   "metadata": {},
   "source": [
    "# 11. What is the role of Seaborn’s pairplot() function?\n",
    "Seaborn’s pairplot() is used to visualize pairwise relationships in a dataset by plotting scatterplots (for numerical variables) and histograms (for distributions).\n",
    "# Role of pairplot()\n",
    "Explores relationships between numerical variables.\n",
    " Identifies trends, correlations, and patterns.\n",
    " Detects outliers and clusters in data.\n",
    " Provides a quick overview of dataset distribution."
   ]
  },
  {
   "cell_type": "markdown",
   "metadata": {},
   "source": [
    "# 12. What is the purpose of the describe() function in Pandas?\n",
    "The describe() function in Pandas is used to generate summary statistics of a DataFrame's numerical or categorical columns. It helps in Exploratory Data Analysis (EDA) by providing insights into data distribution."
   ]
  },
  {
   "cell_type": "markdown",
   "metadata": {},
   "source": [
    "# 13. Why is handling missing data important in Pandas?\n",
    "Handling missing data in Pandas is crucial for ensuring the accuracy and reliability of your data analysis. Missing values can lead to skewed results, misinterpretations, and potential biases if not addressed properly. Pandas provides several methods to identify and handle missing data effectively.\n",
    "Key Reasons to Handle Missing Data:\n",
    "\n",
    "Maintaining Data Integrity: Unaddressed missing values can compromise the integrity of your dataset, leading to incorrect analyses and conclusions.\n",
    "\n",
    "Ensuring Accurate Statistical Analysis: Many statistical methods assume complete data. Missing values can distort statistical metrics, resulting in misleading insights.\n",
    "\n",
    "Preventing Errors in Data Processing: Operations like aggregations or transformations may fail or produce errors when encountering missing data."
   ]
  },
  {
   "cell_type": "markdown",
   "metadata": {},
   "source": [
    "# 14.  What are the benefits of using Plotly for data visualization?\n",
    "Plotly is a powerful library for data visualization that offers several benefits, including:\n",
    "\n",
    "1. Interactive Visualizations\n",
    "Unlike static charts (e.g., Matplotlib), Plotly provides interactive features such as zooming, panning, and tooltips.\n",
    "2. Wide Range of Charts\n",
    "Supports bar charts, scatter plots, line charts, heatmaps, box plots, 3D plots, choropleth maps, and more.\n",
    "3. Easy Integration with Python and Other Languages\n",
    "Works seamlessly with Python (via plotly.express and plotly.graph_objects).\n",
    "Also supports R, Julia, and JavaScript (via plotly.js).\n",
    "4. High-Quality, Publication-Ready Graphics\n",
    "Generates visually appealing plots suitable for reports, presentations, and dashboards.\n",
    "5. Dash Framework for Web Applications\n",
    "Can be integrated with Dash to build interactive web applications without needing extensive front-end development.\n",
    "6. Customization & Styling\n",
    "Allows fine-tuning of colors, themes, axes, labels, and annotations.\n",
    "7. Big Data & Performance Optimization\n",
    "Efficient handling of large datasets with WebGL acceleration.\n",
    "8. Built-in Export Options\n",
    "Supports exporting plots as PNG, JPEG, SVG, PDF, and HTML.\n",
    "9. Integration with Jupyter Notebooks\n",
    "Works seamlessly within Jupyter notebooks for interactive data analysis."
   ]
  },
  {
   "cell_type": "markdown",
   "metadata": {},
   "source": [
    "# 15. How does NumPy handle multidimensional arrays?\n",
    "NumPy handles multidimensional arrays using the ndarray (N-dimensional array) object, which is a powerful and efficient data structure for numerical computations. Here’s how NumPy manages multidimensional arrays:\n",
    "1. Creating Multidimensional Arrays\n",
    "NumPy arrays can have multiple dimensions, where each dimension is called an axis. You can create them using functions like np.array() or specialized methods like np.zeros(), np.ones(), and np.arange().\n",
    "2. Array Properties\n",
    "NumPy provides attributes to inspect multidimensional arrays:\n",
    "\n",
    "ndarray.ndim: Number of dimensions (axes).\n",
    "ndarray.shape: Tuple representing the size of each dimension.\n",
    "ndarray.size: Total number of elements.\n",
    "ndarray.dtype: Data type of the elements.\n",
    "3. Indexing and Slicing\n",
    "NumPy allows advanced indexing:\n",
    "\n",
    "Standard slicing (:) for subarrays.\n",
    "Integer-based indexing.\n",
    "Boolean masking.\n",
    "4. Reshaping and Transposing\n",
    "NumPy allows reshaping and transposing arrays efficiently.\n",
    "\n",
    "python\n",
    "Copy\n",
    "Edit\n",
    "arr = np.arange(12).reshape(3, 4)  # Reshape a 1D array into 3x4\n",
    "print(arr)\n",
    "\n",
    "arr_T = arr.T  # Transpose (swap rows and columns)\n",
    "print(arr_T)\n",
    "5. Vectorized Operations\n",
    "NumPy enables efficient computation using vectorized operations, avoiding Python loops."
   ]
  },
  {
   "cell_type": "markdown",
   "metadata": {},
   "source": [
    "# 16. What is the role of Bokeh in data visualization?\n",
    "Bokeh is a Python library for interactive data visualization, particularly well-suited for web applications and dashboards. It provides powerful tools for creating high-quality, interactive, and scalable visualizations.\n",
    "\n",
    "Key Roles of Bokeh in Data Visualization\n",
    "1. Interactive Visualizations\n",
    "Bokeh allows for zooming, panning, tooltips, and selection tools to explore data interactively.\n",
    "2. Web-Ready Output\n",
    "Bokeh renders visualizations directly in web browsers using HTML, JavaScript, and WebGL.\n",
    "Ideal for embedding plots in web applications or exporting them as interactive standalone files.\n",
    "3. Supports Large Datasets\n",
    "Uses efficient rendering techniques (WebGL, data streaming) to handle large-scale data without performance issues.\n",
    "Supports server-side downsampling to optimize rendering.\n",
    "4. Versatile Plotting Capabilities\n",
    "Supports various chart types:\n",
    "Line, bar, scatter, heatmaps, box plots, network graphs, etc.\n",
    "5. Integration with Other Libraries\n",
    "Works well with Pandas, NumPy, SciPy, and Jupyter notebooks.\n",
    "Can be combined with Flask, Django, or Dash for interactive web applications.\n",
    "6. Bokeh Server for Real-Time Dashboards\n",
    "Allows live streaming data visualization using bokeh.server.\n",
    "Can update plots dynamically based on real-time data sources.\n"
   ]
  },
  {
   "cell_type": "markdown",
   "metadata": {},
   "source": [
    "# 17. Explain the difference between apply() and map() in Pandas?\n",
    "Both apply() and map() are used to apply functions to Pandas data structures, but they have different use cases and work in slightly different ways.\n",
    "\n",
    "1. map() – Used for Element-wise Operations on a Series\n",
    "The map() function is only available for Pandas Series.\n",
    "It is used for applying a function element-wise to each value in a Series.\n",
    "Works with:\n",
    "Custom functions\n",
    "Lambda functions\n",
    "Dictionaries (for mapping values)\n",
    "Series (for value substitution)\n",
    "2. apply() – Used for Column-wise or Row-wise Operations on DataFrames\n",
    "The apply() function works on both Series and DataFrames.\n",
    "For Series: Similar to map(), but more flexible.\n",
    "For DataFrames: Can apply functions row-wise (axis=1) or column-wise (axis=0).\n"
   ]
  },
  {
   "cell_type": "markdown",
   "metadata": {},
   "source": [
    "# 18. What are some advanced features of NumPy?\n",
    "NumPy offers several advanced features that make it powerful for numerical computing. Here are some key advanced functionalities:\n",
    "\n",
    "1. Broadcasting for Efficient Computation\n",
    "Allows arrays of different shapes to be used together without explicit looping.\n",
    "Expands smaller arrays to match the shape of larger ones.\n",
    "2. Vectorization (Avoiding Loops)\n",
    "NumPy operations are vectorized, meaning they run much faster than traditional Python loops.\n",
    "3. Advanced Indexing & Boolean Masking\n",
    "Supports fancy indexing and conditional filtering.\n",
    "4. NumPy Structured Arrays (Heterogeneous Data)\n",
    "NumPy allows defining structured arrays with multiple data types.\n",
    "5. Efficient Random Number Generation\n",
    "Uses numpy.random for fast random number generation."
   ]
  },
  {
   "cell_type": "markdown",
   "metadata": {},
   "source": [
    "# 19. How does Pandas simplify time series analysis?\n",
    "Pandas provides powerful tools for handling time series data, making it easier to manipulate, analyze, and visualize time-dependent data. Here’s how:\n",
    "\n",
    "1. Handling Date and Time Data Efficiently\n",
    "Pandas has built-in support for datetime objects.\n",
    "pd.to_datetime() converts strings to datetime64 objects.\n",
    "2. Time Indexing and Slicing\n",
    "Use datetime indices for fast filtering.\n",
    "3. Resampling and Aggregation\n",
    "Easily change the frequency of time series data using resample().\n",
    "4. Time-based Rolling & Moving Averages\n",
    "Rolling windows smooth fluctuations and detect trends.\n",
    "5. Shifting and Lagging Data\n",
    "Shift time series forward or backward.\n"
   ]
  },
  {
   "cell_type": "markdown",
   "metadata": {},
   "source": [
    "# 20. What is the role of a pivot table in Pandas?\n",
    "Role of Pivot Tables in Pandas\n",
    "A pivot table in Pandas is a powerful tool for summarizing, analyzing, and reorganizing data. It is used to reshape and aggregate large datasets in a tabular format, similar to pivot tables in Excel."
   ]
  },
  {
   "cell_type": "markdown",
   "metadata": {},
   "source": [
    "# 21. Why is NumPy’s array slicing faster than Python’s list slicing?\n",
    "NumPy’s array slicing is significantly faster than Python’s list slicing due to several key optimizations:\n",
    "\n",
    "Contiguous Memory Allocation\n",
    "\n",
    "NumPy stores arrays in a single contiguous block of memory, making access and slicing operations more efficient.\n",
    "Python lists store elements as pointers to objects scattered in memory, increasing access time.\n",
    "\n",
    "Views Instead of Copies\n",
    "NumPy slicing returns a view of the original array rather than creating a separate copy, reducing memory usage and processing time.\n",
    "Python lists always create a new list when sliced, requiring extra memory and computation.\n",
    "\n",
    "Vectorized Operations\n",
    "NumPy is optimized for vectorized operations, meaning slicing and computations occur at the low-level C/Fortran level, avoiding slow Python loops.\n",
    "Python lists rely on interpreted loops and object references, making operations slower.\n",
    "\n",
    "Fixed Data Type (Homogeneous Storage)\n",
    "NumPy arrays store elements of a fixed data type (dtype), ensuring efficient memory allocation and faster element access.\n",
    "Python lists can hold mixed data types, requiring extra overhead for type checking.\n",
    "\n",
    "Low-Level Optimizations (C and Fortran)\n",
    "NumPy is implemented in C and Fortran, leveraging highly optimized libraries like BLAS and LAPACK.\n",
    "Python lists operate at the interpreter level, leading to slower execution."
   ]
  },
  {
   "cell_type": "markdown",
   "metadata": {},
   "source": [
    "# 22.  What are some common use cases for Seaborn?\n",
    "Common Use Cases for Seaborn\n",
    "Seaborn is a Python data visualization library built on Matplotlib, designed for statistical data visualization. It provides elegant, informative, and high-level plotting functions that are especially useful for exploratory data analysis (EDA).\n",
    "\n",
    "1. Distribution Visualization\n",
    "Used to analyze the spread and shape of data distributions.\n",
    "Common functions:\n",
    "sns.histplot() – Histogram\n",
    "sns.kdeplot() – Kernel Density Estimate (KDE)\n",
    "sns.boxplot() – Box Plot\n",
    "Use Case: Understanding income distribution in a dataset.\n",
    "\n",
    "2. Relationship Visualization\n",
    "Helps identify correlations and patterns between numerical variables.\n",
    "Common functions:\n",
    "sns.scatterplot() – Scatter plot\n",
    "sns.lineplot() – Line plot\n",
    "sns.regplot() – Regression plot\n",
    "Use Case: Analyzing the relationship between marketing spend and revenue.\n",
    "\n",
    "3. Categorical Data Visualization\n",
    "Useful for comparing categories or groups in the data.\n",
    "Common functions:\n",
    "sns.barplot() – Bar chart (aggregated values)\n",
    "sns.countplot() – Count plot (frequency of categories)\n",
    "sns.violinplot() – Violin plot (distribution + KDE)\n",
    "Use Case: Comparing average test scores across different education levels.\n",
    "\n",
    "4. Heatmaps for Correlation Analysis\n",
    "Visualizes correlations between multiple variables in a dataset.\n",
    "Function: sns.heatmap()\n",
    "Use Case: Finding correlations in stock market data.\n"
   ]
  },
  {
   "cell_type": "markdown",
   "metadata": {},
   "source": [
    "# PRACTICAL QUESTIONS"
   ]
  },
  {
   "cell_type": "code",
   "execution_count": 5,
   "metadata": {},
   "outputs": [
    {
     "name": "stdout",
     "output_type": "stream",
     "text": [
      "[[1 2 3]\n",
      " [4 5 6]\n",
      " [7 8 9]]\n",
      "[ 6 15 24]\n"
     ]
    }
   ],
   "source": [
    "# 1. How do you create a 2D NumPy array and calculate the sum of each row?\n",
    "#Creating a 2D NumPy Array and Calculating the Sum of Each Row\n",
    "# 1. Create a 2D NumPy Array\n",
    "# A 2D NumPy array (also called a matrix) can be created using np.array() by passing a list of lists.\n",
    "\n",
    "import numpy as np\n",
    "\n",
    "# Creating a 2D NumPy array\n",
    "arr = np.array([[1, 2, 3],\n",
    "                [4, 5, 6],\n",
    "                [7, 8, 9]])\n",
    "print(arr)\n",
    "row_sums = np.sum(arr, axis=1)\n",
    "print(row_sums)"
   ]
  },
  {
   "cell_type": "code",
   "execution_count": 8,
   "metadata": {},
   "outputs": [
    {
     "name": "stdout",
     "output_type": "stream",
     "text": [
      "Mean Age: 31.6\n",
      "Mean Salary: 63000.0\n"
     ]
    }
   ],
   "source": [
    "# 2.  Write a Pandas script to find the mean of a specific column in a DataFrame?\n",
    "#Pandas Script to Find the Mean of a Specific Column\n",
    "\n",
    "import pandas as pd\n",
    "\n",
    "# Sample DataFrame\n",
    "data = {\n",
    "    \"Name\": [\"Alice\", \"Bob\", \"Charlie\", \"David\", \"Eve\"],\n",
    "    \"Age\": [25, 30, 35, 40, 28],\n",
    "    \"Salary\": [50000, 60000, 70000, 80000, 55000]\n",
    "}\n",
    "\n",
    "df = pd.DataFrame(data)\n",
    "\n",
    "# Calculate the mean of the 'Age' column\n",
    "age_mean = df[\"Age\"].mean()\n",
    "\n",
    "# Calculate the mean of the 'Salary' column\n",
    "salary_mean = df[\"Salary\"].mean()\n",
    "\n",
    "print(f\"Mean Age: {age_mean}\")\n",
    "print(f\"Mean Salary: {salary_mean}\")"
   ]
  },
  {
   "cell_type": "code",
   "execution_count": 16,
   "metadata": {},
   "outputs": [
    {
     "data": {
      "image/png": "[encoded data removed]",
      "text/plain": [
       "<Figure size 640x480 with 1 Axes>"
      ]
     },
     "metadata": {},
     "output_type": "display_data"
    }
   ],
   "source": [
    "# 3. Create a scatter plot using Matplotlib?\n",
    "import matplotlib.pyplot as plt\n",
    "\n",
    "# Sample data\n",
    "x = [10, 20, 30, 40, 50]\n",
    "y = [5, 15, 25, 35, 45]\n",
    "\n",
    "# Create scatter plot\n",
    "plt.scatter(x, y, color='blue', marker='o', label='Data Points')\n",
    "\n",
    "# Labels and title\n",
    "plt.xlabel(\"X-axis\")\n",
    "plt.ylabel(\"Y-axis\")\n",
    "plt.title(\"Scatter Plot Example\")\n",
    "\n",
    "# Show legend\n",
    "plt.legend()\n",
    "\n",
    "# Show plot\n",
    "plt.show()"
   ]
  },
  {
   "cell_type": "code",
   "execution_count": 21,
   "metadata": {},
   "outputs": [
    {
     "data": {
      "image/png": "[encoded data removed]",
      "text/plain": [
       "<Figure size 600x400 with 2 Axes>"
      ]
     },
     "metadata": {},
     "output_type": "display_data"
    }
   ],
   "source": [
    "# 4.  How do you calculate the correlation matrix using Seaborn and visualize it with a heatmap?\n",
    "import pandas as pd\n",
    "import seaborn as sns\n",
    "import matplotlib.pyplot as plt\n",
    "\n",
    "# Sample dataset\n",
    "data = {\n",
    "    \"A\": [1, 2, 3, 4, 5],\n",
    "    \"B\": [2, 3, 4, 5, 6],\n",
    "    \"C\": [5, 4, 3, 2, 1],\n",
    "    \"D\": [1, 3, 5, 7, 9]\n",
    "}\n",
    "\n",
    "# Create a DataFrame\n",
    "df = pd.DataFrame(data)\n",
    "\n",
    "# Compute the correlation matrix\n",
    "corr_matrix = df.corr()\n",
    "\n",
    "# Create a heatmap\n",
    "plt.figure(figsize=(6, 4))  # Adjust figure size\n",
    "sns.heatmap(corr_matrix, annot=True, cmap=\"coolwarm\", fmt=\".2f\", linewidths=0.5)\n",
    "\n",
    "# Show the plot\n",
    "plt.title(\"Correlation Matrix Heatmap\")\n",
    "plt.show()"
   ]
  },
  {
   "cell_type": "code",
   "execution_count": 1,
   "metadata": {},
   "outputs": [
    {
     "data": {
      "application/vnd.plotly.v1+json": {
       "config": {
        "plotlyServerURL": "https://plot.ly"
       },
       "data": [
        {
         "marker": {
          "color": "blue"
         },
         "type": "bar",
         "x": [
          "A",
          "B",
          "C",
          "D",
          "E"
         ],
         "y": [
          10,
          20,
          15,
          25,
          30
         ]
        }
       ],
       "layout": {
        "template": {
         "data": {
          "bar": [
           {
            "error_x": {
             "color": "#f2f5fa"
            },
            "error_y": {
             "color": "#f2f5fa"
            },
            "marker": {
             "line": {
              "color": "rgb(17,17,17)",
              "width": 0.5
             },
             "pattern": {
              "fillmode": "overlay",
              "size": 10,
              "solidity": 0.2
             }
            },
            "type": "bar"
           }
          ],
          "barpolar": [
           {
            "marker": {
             "line": {
              "color": "rgb(17,17,17)",
              "width": 0.5
             },
             "pattern": {
              "fillmode": "overlay",
              "size": 10,
              "solidity": 0.2
             }
            },
            "type": "barpolar"
           }
          ],
          "carpet": [
           {
            "aaxis": {
             "endlinecolor": "#A2B1C6",
             "gridcolor": "#506784",
             "linecolor": "#506784",
             "minorgridcolor": "#506784",
             "startlinecolor": "#A2B1C6"
            },
            "baxis": {
             "endlinecolor": "#A2B1C6",
             "gridcolor": "#506784",
             "linecolor": "#506784",
             "minorgridcolor": "#506784",
             "startlinecolor": "#A2B1C6"
            },
            "type": "carpet"
           }
          ],
          "choropleth": [
           {
            "colorbar": {
             "outlinewidth": 0,
             "ticks": ""
            },
            "type": "choropleth"
           }
          ],
          "contour": [
           {
            "colorbar": {
             "outlinewidth": 0,
             "ticks": ""
            },
            "colorscale": [
             [
              0,
              "#0d0887"
             ],
             [
              0.1111111111111111,
              "#46039f"
             ],
             [
              0.2222222222222222,
              "#7201a8"
             ],
             [
              0.3333333333333333,
              "#9c179e"
             ],
             [
              0.4444444444444444,
              "#bd3786"
             ],
             [
              0.5555555555555556,
              "#d8576b"
             ],
             [
              0.6666666666666666,
              "#ed7953"
             ],
             [
              0.7777777777777778,
              "#fb9f3a"
             ],
             [
              0.8888888888888888,
              "#fdca26"
             ],
             [
              1,
              "#f0f921"
             ]
            ],
            "type": "contour"
           }
          ],
          "contourcarpet": [
           {
            "colorbar": {
             "outlinewidth": 0,
             "ticks": ""
            },
            "type": "contourcarpet"
           }
          ],
          "heatmap": [
           {
            "colorbar": {
             "outlinewidth": 0,
             "ticks": ""
            },
            "colorscale": [
             [
              0,
              "#0d0887"
             ],
             [
              0.1111111111111111,
              "#46039f"
             ],
             [
              0.2222222222222222,
              "#7201a8"
             ],
             [
              0.3333333333333333,
              "#9c179e"
             ],
             [
              0.4444444444444444,
              "#bd3786"
             ],
             [
              0.5555555555555556,
              "#d8576b"
             ],
             [
              0.6666666666666666,
              "#ed7953"
             ],
             [
              0.7777777777777778,
              "#fb9f3a"
             ],
             [
              0.8888888888888888,
              "#fdca26"
             ],
             [
              1,
              "#f0f921"
             ]
            ],
            "type": "heatmap"
           }
          ],
          "histogram": [
           {
            "marker": {
             "pattern": {
              "fillmode": "overlay",
              "size": 10,
              "solidity": 0.2
             }
            },
            "type": "histogram"
           }
          ],
          "histogram2d": [
           {
            "colorbar": {
             "outlinewidth": 0,
             "ticks": ""
            },
            "colorscale": [
             [
              0,
              "#0d0887"
             ],
             [
              0.1111111111111111,
              "#46039f"
             ],
             [
              0.2222222222222222,
              "#7201a8"
             ],
             [
              0.3333333333333333,
              "#9c179e"
             ],
             [
              0.4444444444444444,
              "#bd3786"
             ],
             [
              0.5555555555555556,
              "#d8576b"
             ],
             [
              0.6666666666666666,
              "#ed7953"
             ],
             [
              0.7777777777777778,
              "#fb9f3a"
             ],
             [
              0.8888888888888888,
              "#fdca26"
             ],
             [
              1,
              "#f0f921"
             ]
            ],
            "type": "histogram2d"
           }
          ],
          "histogram2dcontour": [
           {
            "colorbar": {
             "outlinewidth": 0,
             "ticks": ""
            },
            "colorscale": [
             [
              0,
              "#0d0887"
             ],
             [
              0.1111111111111111,
              "#46039f"
             ],
             [
              0.2222222222222222,
              "#7201a8"
             ],
             [
              0.3333333333333333,
              "#9c179e"
             ],
             [
              0.4444444444444444,
              "#bd3786"
             ],
             [
              0.5555555555555556,
              "#d8576b"
             ],
             [
              0.6666666666666666,
              "#ed7953"
             ],
             [
              0.7777777777777778,
              "#fb9f3a"
             ],
             [
              0.8888888888888888,
              "#fdca26"
             ],
             [
              1,
              "#f0f921"
             ]
            ],
            "type": "histogram2dcontour"
           }
          ],
          "mesh3d": [
           {
            "colorbar": {
             "outlinewidth": 0,
             "ticks": ""
            },
            "type": "mesh3d"
           }
          ],
          "parcoords": [
           {
            "line": {
             "colorbar": {
              "outlinewidth": 0,
              "ticks": ""
             }
            },
            "type": "parcoords"
           }
          ],
          "pie": [
           {
            "automargin": true,
            "type": "pie"
           }
          ],
          "scatter": [
           {
            "marker": {
             "line": {
              "color": "#283442"
             }
            },
            "type": "scatter"
           }
          ],
          "scatter3d": [
           {
            "line": {
             "colorbar": {
              "outlinewidth": 0,
              "ticks": ""
             }
            },
            "marker": {
             "colorbar": {
              "outlinewidth": 0,
              "ticks": ""
             }
            },
            "type": "scatter3d"
           }
          ],
          "scattercarpet": [
           {
            "marker": {
             "colorbar": {
              "outlinewidth": 0,
              "ticks": ""
             }
            },
            "type": "scattercarpet"
           }
          ],
          "scattergeo": [
           {
            "marker": {
             "colorbar": {
              "outlinewidth": 0,
              "ticks": ""
             }
            },
            "type": "scattergeo"
           }
          ],
          "scattergl": [
           {
            "marker": {
             "line": {
              "color": "#283442"
             }
            },
            "type": "scattergl"
           }
          ],
          "scattermap": [
           {
            "marker": {
             "colorbar": {
              "outlinewidth": 0,
              "ticks": ""
             }
            },
            "type": "scattermap"
           }
          ],
          "scattermapbox": [
           {
            "marker": {
             "colorbar": {
              "outlinewidth": 0,
              "ticks": ""
             }
            },
            "type": "scattermapbox"
           }
          ],
          "scatterpolar": [
           {
            "marker": {
             "colorbar": {
              "outlinewidth": 0,
              "ticks": ""
             }
            },
            "type": "scatterpolar"
           }
          ],
          "scatterpolargl": [
           {
            "marker": {
             "colorbar": {
              "outlinewidth": 0,
              "ticks": ""
             }
            },
            "type": "scatterpolargl"
           }
          ],
          "scatterternary": [
           {
            "marker": {
             "colorbar": {
              "outlinewidth": 0,
              "ticks": ""
             }
            },
            "type": "scatterternary"
           }
          ],
          "surface": [
           {
            "colorbar": {
             "outlinewidth": 0,
             "ticks": ""
            },
            "colorscale": [
             [
              0,
              "#0d0887"
             ],
             [
              0.1111111111111111,
              "#46039f"
             ],
             [
              0.2222222222222222,
              "#7201a8"
             ],
             [
              0.3333333333333333,
              "#9c179e"
             ],
             [
              0.4444444444444444,
              "#bd3786"
             ],
             [
              0.5555555555555556,
              "#d8576b"
             ],
             [
              0.6666666666666666,
              "#ed7953"
             ],
             [
              0.7777777777777778,
              "#fb9f3a"
             ],
             [
              0.8888888888888888,
              "#fdca26"
             ],
             [
              1,
              "#f0f921"
             ]
            ],
            "type": "surface"
           }
          ],
          "table": [
           {
            "cells": {
             "fill": {
              "color": "#506784"
             },
             "line": {
              "color": "rgb(17,17,17)"
             }
            },
            "header": {
             "fill": {
              "color": "#2a3f5f"
             },
             "line": {
              "color": "rgb(17,17,17)"
             }
            },
            "type": "table"
           }
          ]
         },
         "layout": {
          "annotationdefaults": {
           "arrowcolor": "#f2f5fa",
           "arrowhead": 0,
           "arrowwidth": 1
          },
          "autotypenumbers": "strict",
          "coloraxis": {
           "colorbar": {
            "outlinewidth": 0,
            "ticks": ""
           }
          },
          "colorscale": {
           "diverging": [
            [
             0,
             "#8e0152"
            ],
            [
             0.1,
             "#c51b7d"
            ],
            [
             0.2,
             "#de77ae"
            ],
            [
             0.3,
             "#f1b6da"
            ],
            [
             0.4,
             "#fde0ef"
            ],
            [
             0.5,
             "#f7f7f7"
            ],
            [
             0.6,
             "#e6f5d0"
            ],
            [
             0.7,
             "#b8e186"
            ],
            [
             0.8,
             "#7fbc41"
            ],
            [
             0.9,
             "#4d9221"
            ],
            [
             1,
             "#276419"
            ]
           ],
           "sequential": [
            [
             0,
             "#0d0887"
            ],
            [
             0.1111111111111111,
             "#46039f"
            ],
            [
             0.2222222222222222,
             "#7201a8"
            ],
            [
             0.3333333333333333,
             "#9c179e"
            ],
            [
             0.4444444444444444,
             "#bd3786"
            ],
            [
             0.5555555555555556,
             "#d8576b"
            ],
            [
             0.6666666666666666,
             "#ed7953"
            ],
            [
             0.7777777777777778,
             "#fb9f3a"
            ],
            [
             0.8888888888888888,
             "#fdca26"
            ],
            [
             1,
             "#f0f921"
            ]
           ],
           "sequentialminus": [
            [
             0,
             "#0d0887"
            ],
            [
             0.1111111111111111,
             "#46039f"
            ],
            [
             0.2222222222222222,
             "#7201a8"
            ],
            [
             0.3333333333333333,
             "#9c179e"
            ],
            [
             0.4444444444444444,
             "#bd3786"
            ],
            [
             0.5555555555555556,
             "#d8576b"
            ],
            [
             0.6666666666666666,
             "#ed7953"
            ],
            [
             0.7777777777777778,
             "#fb9f3a"
            ],
            [
             0.8888888888888888,
             "#fdca26"
            ],
            [
             1,
             "#f0f921"
            ]
           ]
          },
          "colorway": [
           "#636efa",
           "#EF553B",
           "#00cc96",
           "#ab63fa",
           "#FFA15A",
           "#19d3f3",
           "#FF6692",
           "#B6E880",
           "#FF97FF",
           "#FECB52"
          ],
          "font": {
           "color": "#f2f5fa"
          },
          "geo": {
           "bgcolor": "rgb(17,17,17)",
           "lakecolor": "rgb(17,17,17)",
           "landcolor": "rgb(17,17,17)",
           "showlakes": true,
           "showland": true,
           "subunitcolor": "#506784"
          },
          "hoverlabel": {
           "align": "left"
          },
          "hovermode": "closest",
          "mapbox": {
           "style": "dark"
          },
          "paper_bgcolor": "rgb(17,17,17)",
          "plot_bgcolor": "rgb(17,17,17)",
          "polar": {
           "angularaxis": {
            "gridcolor": "#506784",
            "linecolor": "#506784",
            "ticks": ""
           },
           "bgcolor": "rgb(17,17,17)",
           "radialaxis": {
            "gridcolor": "#506784",
            "linecolor": "#506784",
            "ticks": ""
           }
          },
          "scene": {
           "xaxis": {
            "backgroundcolor": "rgb(17,17,17)",
            "gridcolor": "#506784",
            "gridwidth": 2,
            "linecolor": "#506784",
            "showbackground": true,
            "ticks": "",
            "zerolinecolor": "#C8D4E3"
           },
           "yaxis": {
            "backgroundcolor": "rgb(17,17,17)",
            "gridcolor": "#506784",
            "gridwidth": 2,
            "linecolor": "#506784",
            "showbackground": true,
            "ticks": "",
            "zerolinecolor": "#C8D4E3"
           },
           "zaxis": {
            "backgroundcolor": "rgb(17,17,17)",
            "gridcolor": "#506784",
            "gridwidth": 2,
            "linecolor": "#506784",
            "showbackground": true,
            "ticks": "",
            "zerolinecolor": "#C8D4E3"
           }
          },
          "shapedefaults": {
           "line": {
            "color": "#f2f5fa"
           }
          },
          "sliderdefaults": {
           "bgcolor": "#C8D4E3",
           "bordercolor": "rgb(17,17,17)",
           "borderwidth": 1,
           "tickwidth": 0
          },
          "ternary": {
           "aaxis": {
            "gridcolor": "#506784",
            "linecolor": "#506784",
            "ticks": ""
           },
           "baxis": {
            "gridcolor": "#506784",
            "linecolor": "#506784",
            "ticks": ""
           },
           "bgcolor": "rgb(17,17,17)",
           "caxis": {
            "gridcolor": "#506784",
            "linecolor": "#506784",
            "ticks": ""
           }
          },
          "title": {
           "x": 0.05
          },
          "updatemenudefaults": {
           "bgcolor": "#506784",
           "borderwidth": 0
          },
          "xaxis": {
           "automargin": true,
           "gridcolor": "#283442",
           "linecolor": "#506784",
           "ticks": "",
           "title": {
            "standoff": 15
           },
           "zerolinecolor": "#283442",
           "zerolinewidth": 2
          },
          "yaxis": {
           "automargin": true,
           "gridcolor": "#283442",
           "linecolor": "#506784",
           "ticks": "",
           "title": {
            "standoff": 15
           },
           "zerolinecolor": "#283442",
           "zerolinewidth": 2
          }
         }
        },
        "title": {
         "text": "Bar Plot Example"
        },
        "xaxis": {
         "title": {
          "text": "Categories"
         }
        },
        "yaxis": {
         "title": {
          "text": "Values"
         }
        }
       }
      }
     },
     "metadata": {},
     "output_type": "display_data"
    }
   ],
   "source": [
    "# 5.  Generate a bar plot using Plotly?\n",
    "import plotly.graph_objects as go\n",
    "# Sample data\n",
    "categories = [\"A\", \"B\", \"C\", \"D\", \"E\"]\n",
    "values = [10, 20, 15, 25, 30]\n",
    "\n",
    "# Create bar chart\n",
    "fig = go.Figure(go.Bar(x=categories, y=values, marker_color=\"blue\"))\n",
    "\n",
    "# Customize layout\n",
    "fig.update_layout(\n",
    "    title=\"Bar Plot Example\",\n",
    "    xaxis_title=\"Categories\",\n",
    "    yaxis_title=\"Values\",\n",
    "    template=\"plotly_dark\"\n",
    ")\n",
    "\n",
    "# Show the plot\n",
    "fig.show()"
   ]
  },
  {
   "cell_type": "code",
   "execution_count": 2,
   "metadata": {},
   "outputs": [
    {
     "name": "stdout",
     "output_type": "stream",
     "text": [
      "      Name  Age Category\n",
      "0    Alice   23    Young\n",
      "1      Bob   30    Adult\n",
      "2  Charlie   35    Adult\n",
      "3    David   40    Adult\n"
     ]
    }
   ],
   "source": [
    "# 6. Create a DataFrame and add a new column based on an existing column?\n",
    "import pandas as pd\n",
    "\n",
    "# Create a sample DataFrame\n",
    "data = {\n",
    "    \"Name\": [\"Alice\", \"Bob\", \"Charlie\", \"David\"],\n",
    "    \"Age\": [23, 30, 35, 40]\n",
    "}\n",
    "\n",
    "df = pd.DataFrame(data)\n",
    "\n",
    "# Add a new column based on the 'Age' column\n",
    "df[\"Category\"] = df[\"Age\"].apply(lambda x: \"Young\" if x < 30 else \"Adult\")\n",
    "\n",
    "# Display the DataFrame\n",
    "print(df)"
   ]
  },
  {
   "cell_type": "code",
   "execution_count": 3,
   "metadata": {},
   "outputs": [
    {
     "name": "stdout",
     "output_type": "stream",
     "text": [
      "Result using '*': [ 10  40  90 160 250]\n",
      "Result using np.multiply(): [ 10  40  90 160 250]\n"
     ]
    }
   ],
   "source": [
    "# 7. Write a program to perform element-wise multiplication of two NumPy arrays?\n",
    "import numpy as np\n",
    "\n",
    "# Create two NumPy arrays\n",
    "array1 = np.array([1, 2, 3, 4, 5])\n",
    "array2 = np.array([10, 20, 30, 40, 50])\n",
    "\n",
    "# Element-wise multiplication using '*' operator\n",
    "result1 = array1 * array2\n",
    "\n",
    "# Element-wise multiplication using np.multiply()\n",
    "result2 = np.multiply(array1, array2)\n",
    "\n",
    "# Print results\n",
    "print(\"Result using '*':\", result1)\n",
    "print(\"Result using np.multiply():\", result2)"
   ]
  },
  {
   "cell_type": "code",
   "execution_count": 4,
   "metadata": {},
   "outputs": [
    {
     "data": {
      "image/png": "[encoded data removed]",
      "text/plain": [
       "<Figure size 640x480 with 1 Axes>"
      ]
     },
     "metadata": {},
     "output_type": "display_data"
    }
   ],
   "source": [
    "# 8.  Create a line plot with multiple lines using Matplotlib?\n",
    "import matplotlib.pyplot as plt\n",
    "\n",
    "# Sample data\n",
    "x = [1, 2, 3, 4, 5]\n",
    "y1 = [10, 20, 25, 30, 40]  # First line\n",
    "y2 = [5, 15, 20, 25, 35]   # Second line\n",
    "y3 = [2, 10, 15, 20, 30]   # Third line\n",
    "\n",
    "# Create line plot with multiple lines\n",
    "plt.plot(x, y1, marker='o', linestyle='-', color='blue', label='Line 1')\n",
    "plt.plot(x, y2, marker='s', linestyle='--', color='red', label='Line 2')\n",
    "plt.plot(x, y3, marker='d', linestyle='-.', color='green', label='Line 3')\n",
    "\n",
    "# Add labels, title, and legend\n",
    "plt.xlabel(\"X-axis\")\n",
    "plt.ylabel(\"Y-axis\")\n",
    "plt.title(\"Multiple Line Plot Example\")\n",
    "plt.legend()\n",
    "\n",
    "# Show plot\n",
    "plt.grid(True)  # Add grid for better readability\n",
    "plt.show()"
   ]
  },
  {
   "cell_type": "code",
   "execution_count": 5,
   "metadata": {},
   "outputs": [
    {
     "name": "stdout",
     "output_type": "stream",
     "text": [
      "      Name  Age  Salary\n",
      "2  Charlie   35   75000\n",
      "3    David   40   80000\n"
     ]
    }
   ],
   "source": [
    "# 9.  Generate a Pandas DataFrame and filter rows where a column value is greater than a threshold?\n",
    "import pandas as pd\n",
    "\n",
    "# Create a sample DataFrame\n",
    "data = {\n",
    "    \"Name\": [\"Alice\", \"Bob\", \"Charlie\", \"David\", \"Eve\"],\n",
    "    \"Age\": [25, 30, 35, 40, 22],\n",
    "    \"Salary\": [50000, 60000, 75000, 80000, 45000]\n",
    "}\n",
    "\n",
    "df = pd.DataFrame(data)\n",
    "\n",
    "# Define threshold\n",
    "threshold = 30\n",
    "\n",
    "# Filter rows where Age is greater than the threshold\n",
    "filtered_df = df[df[\"Age\"] > threshold]\n",
    "\n",
    "# Display the filtered DataFrame\n",
    "print(filtered_df)"
   ]
  },
  {
   "cell_type": "code",
   "execution_count": 6,
   "metadata": {},
   "outputs": [
    {
     "data": {
      "image/png": "[encoded data removed]",
      "text/plain": [
       "<Figure size 640x480 with 1 Axes>"
      ]
     },
     "metadata": {},
     "output_type": "display_data"
    }
   ],
   "source": [
    "# 10.  Create a histogram using Seaborn to visualize a distribution?\n",
    "import seaborn as sns\n",
    "import matplotlib.pyplot as plt\n",
    "import numpy as np\n",
    "\n",
    "# Generate random data\n",
    "data = np.random.randn(1000)  # 1000 random numbers from a normal distribution\n",
    "\n",
    "# Create the histogram\n",
    "sns.histplot(data, bins=30, kde=True, color=\"blue\")\n",
    "\n",
    "# Add labels and title\n",
    "plt.xlabel(\"Value\")\n",
    "plt.ylabel(\"Frequency\")\n",
    "plt.title(\"Histogram of Data Distribution\")\n",
    "\n",
    "# Show the plot\n",
    "plt.show()"
   ]
  },
  {
   "cell_type": "code",
   "execution_count": 7,
   "metadata": {},
   "outputs": [
    {
     "name": "stdout",
     "output_type": "stream",
     "text": [
      "Matrix A:\n",
      " [[1 2]\n",
      " [3 4]]\n",
      "Matrix B:\n",
      " [[5 6]\n",
      " [7 8]]\n",
      "Result using '@' operator:\n",
      " [[19 22]\n",
      " [43 50]]\n",
      "Result using np.dot():\n",
      " [[19 22]\n",
      " [43 50]]\n",
      "Result using np.matmul():\n",
      " [[19 22]\n",
      " [43 50]]\n"
     ]
    }
   ],
   "source": [
    "# 11. Perform matrix multiplication using NumPy?\n",
    "import numpy as np\n",
    "\n",
    "# Define two matrices (2x2)\n",
    "A = np.array([[1, 2], \n",
    "              [3, 4]])\n",
    "\n",
    "B = np.array([[5, 6], \n",
    "              [7, 8]])\n",
    "\n",
    "# Perform matrix multiplication using different methods\n",
    "result1 = A @ B          # Using @ operator (recommended)\n",
    "result2 = np.dot(A, B)   # Using np.dot()\n",
    "result3 = np.matmul(A, B) # Using np.matmul()\n",
    "\n",
    "# Print results\n",
    "print(\"Matrix A:\\n\", A)\n",
    "print(\"Matrix B:\\n\", B)\n",
    "print(\"Result using '@' operator:\\n\", result1)\n",
    "print(\"Result using np.dot():\\n\", result2)\n",
    "print(\"Result using np.matmul():\\n\", result3)"
   ]
  },
  {
   "cell_type": "markdown",
   "metadata": {},
   "source": []
  },
  {
   "cell_type": "code",
   "execution_count": 5,
   "metadata": {},
   "outputs": [
    {
     "name": "stdout",
     "output_type": "stream",
     "text": [
      "   Index          User Id First Name Last Name     Sex  \\\n",
      "0      1  88F7B33d2bcf9f5     Shelby   Terrell    Male   \n",
      "1      2  f90cD3E76f1A9b9    Phillip   Summers  Female   \n",
      "2      3  DbeAb8CcdfeFC2c   Kristine    Travis    Male   \n",
      "3      4  A31Bee3c201ef58    Yesenia  Martinez    Male   \n",
      "4      5  1bA7A3dc874da3c       Lori      Todd    Male   \n",
      "\n",
      "                        Email                   Phone Date of birth  \\\n",
      "0        elijah57@example.net  001-084-906-7849x73518    1945-10-26   \n",
      "1       bethany14@example.com       214.112.6044x4913    1910-03-24   \n",
      "2       bthompson@example.com            277.609.7938    1992-07-02   \n",
      "3   kaitlinkaiser@example.com            584.094.6111    2017-08-03   \n",
      "4  buchananmanuel@example.net       689-207-3558x7233    1938-12-01   \n",
      "\n",
      "            Job Title  \n",
      "0     Games developer  \n",
      "1      Phytotherapist  \n",
      "2           Homeopath  \n",
      "3   Market researcher  \n",
      "4  Veterinary surgeon  \n"
     ]
    }
   ],
   "source": [
    "# 12.  Use Pandas to load a CSV file and display its first 5 rows?\n",
    "import pandas as pd\n",
    "\n",
    "# Load the CSV file\n",
    "df = pd.read_csv(r\"C:\\Users\\Hari Vignesh\\Documents\\data.csv\")\n",
    "\n",
    "# Display the first 5 rows\n",
    "print(df.head())"
   ]
  },
  {
   "cell_type": "code",
   "execution_count": 16,
   "metadata": {},
   "outputs": [
    {
     "data": {
      "application/vnd.plotly.v1+json": {
       "config": {
        "plotlyServerURL": "https://plot.ly"
       },
       "data": [
        {
         "marker": {
          "color": {
           "bdata": "CI7n9Pzl1j9hVxtk8vHhP4JHVYotVPE/XSlfil/c8D8mOgEJ7wr2v2fFeaipAu6/gFSePSt74D+H/Qk873DgPwMUEklFe+A/BQ1F42TSDkC2wyAtvETiP3SXcOBGK/I/vPLQtC6H7j8SSSh3MtjkP9mNyg1fLdS/5g2W0XlJ6D9Y0b7x+7rovwAthHUSUM6/kS0mRTIQ378lag0ftPW0P9Im6rVrhAJATkByd1Hg/b+RkUbu1/XlP8j+Ryivzfm/TmBgtiE03r/F8w52V2zxP+gfzcOndLA/KULqTnE+8b9tVL+axOPmv0SCQ8dDv+U/qhKq1ylf57/pr5hB6rTLP3XHAjQxVac/V+/g+OjZ5L+V1qAozCYBQIFhpYsQSeQ/PXPb9H0zAMD8/hAovN3HP6yz485aLeW/PwrfRSJH6z8KDJ9zVFzpv/J+wg9eX72/N78DFdso4D+NsKk8RLTrP0v5XAFqNPO/JiQa33do1b9ayrQEgWXev4qY7bQS6OS/KngJ8kw//D8ljANpOOvZPwu5PqeULPS/D/uaBCBf7T9KYjkHLfoAQDcsBUv6hPA/AsGk4VZP+L+NcaTosP3ev/EbC6BERfQ/Frxmbzql5r8U602aiWfcP/QZu1rNyeg/yf+iF2qp7b9e6SKDG3quv0GEOZId7gnAUVGfS+Rj8L/Pqo+bEyrQvwSbcH/r9vO/Ch3AUFse+j/p9O/s2+H2v4WDyVmwKdy/JBracxu8wD93MpKUdA/3PxIUTpdK+fa/CF82mFGc8j/kN1YzEvWEP6y+n9SEaO+/1wlVcxqT3T9gSjjByXrJP83vPAb6NOO/zog5qIzesT/DbE5c+qjYv4oCYgV5D70/0uEXqyww5T9cAUQrU2D5P4YX358XzvO/xWZLzXMQAUB/6p1qwDv/v8NamamxbcO/jM8wm37T4j+DSpdQxfvRP8qoG4sn7eO/rl1t+b+jyr+ndNDKU43fvyyxj3oT3OK/rS+qvPAv6z/Pqhh7V9nWP9dUV75QLOa/aRaPrYXJ7D/XdA+cy6rTP1lCEmv3Auo/wsSVYusl5D8=",
           "dtype": "f8"
          },
          "colorscale": [
           [
            0,
            "#440154"
           ],
           [
            0.1111111111111111,
            "#482878"
           ],
           [
            0.2222222222222222,
            "#3e4989"
           ],
           [
            0.3333333333333333,
            "#31688e"
           ],
           [
            0.4444444444444444,
            "#26828e"
           ],
           [
            0.5555555555555556,
            "#1f9e89"
           ],
           [
            0.6666666666666666,
            "#35b779"
           ],
           [
            0.7777777777777778,
            "#6ece58"
           ],
           [
            0.8888888888888888,
            "#b5de2b"
           ],
           [
            1,
            "#fde725"
           ]
          ],
          "opacity": 0.8,
          "size": 5
         },
         "mode": "markers",
         "type": "scatter3d",
         "x": {
          "bdata": "fDCpKCrK3z8qBd4FpbLBv2heJFDdueQ/K6oBjlRe+D9AplffvPjNvzvbcCYz+M2/CHRAqHRE+T/z1/BG047oP4ueeUveC96/fS1q4aZc4T9wG8Guoqjdv+fvFiuEzt2/cPmepZ74zj++Ne6+y5z+vxLk7nBDmfu/YzyhakL+4b95UaNnjjTwvx+GFtigHNQ/+QOLgYgO7b/HExTEy5j2v0ENnx9Mc/c/2Zhm4TzmzL/GNbFGh0mxP2InDcHEy/a/KPrKUZVr4b81BjE/bGW8PxX1zj14avK/6N19s28L2D/SOz2hbjjjv6DS80Icq9K/p/2pOS5B479X9hhz7qL9P4aDsNZupIu/RsyHS2Ls8L83Lh+1SVLqPxx64lmTiPO/tWnv0gq8yj/DMFAPz1r/v/9asANAQPW/QDr0vL8yyT++nUiqhKHnPwwupFVl78U/XzGyNiCbvb/hr1BvSEXTvwa4sKwGqPe/J6aouPYI57/ZriIKG3vdv2LC1/746fA/iEEAkdf91T9OFQ2YaTX8vzhYbbDKvdQ/QA8qJjCl2L9NOahTWKnlv/nsCSfakuM/1Pz0Wvl+8D8enOD2C83tP1MVD7Xe2uq/zylztCLK07+KTA+JazPVPwBoGGqqN+8/VWYobMqq3r8Tbn1grMPHvzBuPE2Ms/G/9PWajqkj87+w1UonNgDqP/3Ng74os/U/+iMrXUFvsr9qgA6DeA7wP0KkKG0LJdc/rwoBL9Kk5L+P6aQIGyHXPyBgEDvMm/g/UhmlZMpXor8x1znJxwj5P19fz+s89QTAv1gZewZN6j8hrkt3t0i2P8Dt4LnvItO/OIpGXqJ9tz/iHOwPFc3/v8FsDls1Hsy/04nor+7a1j8349E5dKX3PzA8v2yrleC/S3Lu+S3f6b+hdpfJZA7gv5AGx2H5Su0/gMUgGEIK1T/02ryry/PgvwNc6tKvbOA/OiugAxPauD9TvHjHI//uP3hIyAw4d+a/l5Lxpmr41L8apYzLTBjZvxD0dqaOave/IzBrdqLz0j8UgR0sIbXQPw06yBDZ8XQ/hE70gPMGzr8=",
          "dtype": "f8"
         },
         "y": {
          "bdata": "BCaNylul9r90hh9c2uvavws0Ft4I79W/fDE0YUGs6b/Ac3WcAqXEvzMc/B/429k/GwJ+RNEt/j+RJ1zWkFjGP517TqK0e9A/YFWJNeMOs7/tciNySbP+vzhGxw90Jpu/rRjbe37Wrj+4CNpHuLQDQOSGYbpIn8i/cjBhOY1M0z8IMle3vcWhv88R8r3nsvK/XG9XkwBJ8j9WfwXd1Q/oP9CD1DoiUOk//I03uLMZ7b80xIdy2HH2PxrkSGH7bfa/S4cph4jH4j9pi2GZDYYBQGn2PTx5su+/syyOahwf4r/knA16wIK5P29cmPl4HOC/2oM4dYTP+L/WI4LWV42xP6z3zS0y//C/LYVNoFZP3j+P4yVf7Gvtv8btxwSIzPg/3zBiNWkQ6b/G09nnp5zUv6+9akJVCOo/EVsOyJ6x879VNCM6aB3NP9OKTYUO6vQ/uPAUV0C4+b9xtRAQFaLHP87DhXHrodA/FIwxZrEE6T/Ywx/UjMrzvwa+Dx2XIPW/c+xXzL6z4D81ybwAzAHTP9yCByoTCNA/bQZjHDUs1j8B1nQ0w8Llv50+1zh9us0/Kj4LDLPB0j9/yEiB99vmv987sV822v0/4GTFUEdT3j9piIFBlA/zvwzmpLZ8AuU/U2I0nZcw779TSQgNzC/pPyEIkoSbifI/3Du3kAdD6r/tPhst+tPuP3e1ZrEAa9o/56rQG1FO6j/5fjyZQ1n+P92Zh7bgaM+/8kr3TZse6L+U+RH35nbsvwxYtSseG+q/vzZmCPC8s79JabMXb9XVP3p/jlNNtdE/chRNAUl46j/EwjZjvKCKPwoy0PKsQfc/auDaNiPw0L9MuFAN6MIFQKFsmod3BeQ/fngKr9Vt6799RAssYCLxv2JDLPvT4N4/Gn5stW2azL8Pgm6QF9nmPy3tMXaGSd4/qoMQZuqksr9D/LEj7xjrv/pkh3HQPPi/HGITc7OT3L8ogL5xnmfrPyehqH5sZ8s/3tQeyYvu87+mMWnmyirGP1UCIToKqdg/we3ZY49I7L9MGk6nQ63DP+ihInyIza0/47UXOZtJ8r8=",
          "dtype": "f8"
         },
         "z": {
          "bdata": "CI7n9Pzl1j9hVxtk8vHhP4JHVYotVPE/XSlfil/c8D8mOgEJ7wr2v2fFeaipAu6/gFSePSt74D+H/Qk873DgPwMUEklFe+A/BQ1F42TSDkC2wyAtvETiP3SXcOBGK/I/vPLQtC6H7j8SSSh3MtjkP9mNyg1fLdS/5g2W0XlJ6D9Y0b7x+7rovwAthHUSUM6/kS0mRTIQ378lag0ftPW0P9Im6rVrhAJATkByd1Hg/b+RkUbu1/XlP8j+Ryivzfm/TmBgtiE03r/F8w52V2zxP+gfzcOndLA/KULqTnE+8b9tVL+axOPmv0SCQ8dDv+U/qhKq1ylf57/pr5hB6rTLP3XHAjQxVac/V+/g+OjZ5L+V1qAozCYBQIFhpYsQSeQ/PXPb9H0zAMD8/hAovN3HP6yz485aLeW/PwrfRSJH6z8KDJ9zVFzpv/J+wg9eX72/N78DFdso4D+NsKk8RLTrP0v5XAFqNPO/JiQa33do1b9ayrQEgWXev4qY7bQS6OS/KngJ8kw//D8ljANpOOvZPwu5PqeULPS/D/uaBCBf7T9KYjkHLfoAQDcsBUv6hPA/AsGk4VZP+L+NcaTosP3ev/EbC6BERfQ/Frxmbzql5r8U602aiWfcP/QZu1rNyeg/yf+iF2qp7b9e6SKDG3quv0GEOZId7gnAUVGfS+Rj8L/Pqo+bEyrQvwSbcH/r9vO/Ch3AUFse+j/p9O/s2+H2v4WDyVmwKdy/JBracxu8wD93MpKUdA/3PxIUTpdK+fa/CF82mFGc8j/kN1YzEvWEP6y+n9SEaO+/1wlVcxqT3T9gSjjByXrJP83vPAb6NOO/zog5qIzesT/DbE5c+qjYv4oCYgV5D70/0uEXqyww5T9cAUQrU2D5P4YX358XzvO/xWZLzXMQAUB/6p1qwDv/v8NamamxbcO/jM8wm37T4j+DSpdQxfvRP8qoG4sn7eO/rl1t+b+jyr+ndNDKU43fvyyxj3oT3OK/rS+qvPAv6z/Pqhh7V9nWP9dUV75QLOa/aRaPrYXJ7D/XdA+cy6rTP1lCEmv3Auo/wsSVYusl5D8=",
          "dtype": "f8"
         }
        }
       ],
       "layout": {
        "scene": {
         "xaxis": {
          "title": {
           "text": "X Axis"
          }
         },
         "yaxis": {
          "title": {
           "text": "Y Axis"
          }
         },
         "zaxis": {
          "title": {
           "text": "Z Axis"
          }
         }
        },
        "template": {
         "data": {
          "bar": [
           {
            "error_x": {
             "color": "#2a3f5f"
            },
            "error_y": {
             "color": "#2a3f5f"
            },
            "marker": {
             "line": {
              "color": "#E5ECF6",
              "width": 0.5
             },
             "pattern": {
              "fillmode": "overlay",
              "size": 10,
              "solidity": 0.2
             }
            },
            "type": "bar"
           }
          ],
          "barpolar": [
           {
            "marker": {
             "line": {
              "color": "#E5ECF6",
              "width": 0.5
             },
             "pattern": {
              "fillmode": "overlay",
              "size": 10,
              "solidity": 0.2
             }
            },
            "type": "barpolar"
           }
          ],
          "carpet": [
           {
            "aaxis": {
             "endlinecolor": "#2a3f5f",
             "gridcolor": "white",
             "linecolor": "white",
             "minorgridcolor": "white",
             "startlinecolor": "#2a3f5f"
            },
            "baxis": {
             "endlinecolor": "#2a3f5f",
             "gridcolor": "white",
             "linecolor": "white",
             "minorgridcolor": "white",
             "startlinecolor": "#2a3f5f"
            },
            "type": "carpet"
           }
          ],
          "choropleth": [
           {
            "colorbar": {
             "outlinewidth": 0,
             "ticks": ""
            },
            "type": "choropleth"
           }
          ],
          "contour": [
           {
            "colorbar": {
             "outlinewidth": 0,
             "ticks": ""
            },
            "colorscale": [
             [
              0,
              "#0d0887"
             ],
             [
              0.1111111111111111,
              "#46039f"
             ],
             [
              0.2222222222222222,
              "#7201a8"
             ],
             [
              0.3333333333333333,
              "#9c179e"
             ],
             [
              0.4444444444444444,
              "#bd3786"
             ],
             [
              0.5555555555555556,
              "#d8576b"
             ],
             [
              0.6666666666666666,
              "#ed7953"
             ],
             [
              0.7777777777777778,
              "#fb9f3a"
             ],
             [
              0.8888888888888888,
              "#fdca26"
             ],
             [
              1,
              "#f0f921"
             ]
            ],
            "type": "contour"
           }
          ],
          "contourcarpet": [
           {
            "colorbar": {
             "outlinewidth": 0,
             "ticks": ""
            },
            "type": "contourcarpet"
           }
          ],
          "heatmap": [
           {
            "colorbar": {
             "outlinewidth": 0,
             "ticks": ""
            },
            "colorscale": [
             [
              0,
              "#0d0887"
             ],
             [
              0.1111111111111111,
              "#46039f"
             ],
             [
              0.2222222222222222,
              "#7201a8"
             ],
             [
              0.3333333333333333,
              "#9c179e"
             ],
             [
              0.4444444444444444,
              "#bd3786"
             ],
             [
              0.5555555555555556,
              "#d8576b"
             ],
             [
              0.6666666666666666,
              "#ed7953"
             ],
             [
              0.7777777777777778,
              "#fb9f3a"
             ],
             [
              0.8888888888888888,
              "#fdca26"
             ],
             [
              1,
              "#f0f921"
             ]
            ],
            "type": "heatmap"
           }
          ],
          "histogram": [
           {
            "marker": {
             "pattern": {
              "fillmode": "overlay",
              "size": 10,
              "solidity": 0.2
             }
            },
            "type": "histogram"
           }
          ],
          "histogram2d": [
           {
            "colorbar": {
             "outlinewidth": 0,
             "ticks": ""
            },
            "colorscale": [
             [
              0,
              "#0d0887"
             ],
             [
              0.1111111111111111,
              "#46039f"
             ],
             [
              0.2222222222222222,
              "#7201a8"
             ],
             [
              0.3333333333333333,
              "#9c179e"
             ],
             [
              0.4444444444444444,
              "#bd3786"
             ],
             [
              0.5555555555555556,
              "#d8576b"
             ],
             [
              0.6666666666666666,
              "#ed7953"
             ],
             [
              0.7777777777777778,
              "#fb9f3a"
             ],
             [
              0.8888888888888888,
              "#fdca26"
             ],
             [
              1,
              "#f0f921"
             ]
            ],
            "type": "histogram2d"
           }
          ],
          "histogram2dcontour": [
           {
            "colorbar": {
             "outlinewidth": 0,
             "ticks": ""
            },
            "colorscale": [
             [
              0,
              "#0d0887"
             ],
             [
              0.1111111111111111,
              "#46039f"
             ],
             [
              0.2222222222222222,
              "#7201a8"
             ],
             [
              0.3333333333333333,
              "#9c179e"
             ],
             [
              0.4444444444444444,
              "#bd3786"
             ],
             [
              0.5555555555555556,
              "#d8576b"
             ],
             [
              0.6666666666666666,
              "#ed7953"
             ],
             [
              0.7777777777777778,
              "#fb9f3a"
             ],
             [
              0.8888888888888888,
              "#fdca26"
             ],
             [
              1,
              "#f0f921"
             ]
            ],
            "type": "histogram2dcontour"
           }
          ],
          "mesh3d": [
           {
            "colorbar": {
             "outlinewidth": 0,
             "ticks": ""
            },
            "type": "mesh3d"
           }
          ],
          "parcoords": [
           {
            "line": {
             "colorbar": {
              "outlinewidth": 0,
              "ticks": ""
             }
            },
            "type": "parcoords"
           }
          ],
          "pie": [
           {
            "automargin": true,
            "type": "pie"
           }
          ],
          "scatter": [
           {
            "fillpattern": {
             "fillmode": "overlay",
             "size": 10,
             "solidity": 0.2
            },
            "type": "scatter"
           }
          ],
          "scatter3d": [
           {
            "line": {
             "colorbar": {
              "outlinewidth": 0,
              "ticks": ""
             }
            },
            "marker": {
             "colorbar": {
              "outlinewidth": 0,
              "ticks": ""
             }
            },
            "type": "scatter3d"
           }
          ],
          "scattercarpet": [
           {
            "marker": {
             "colorbar": {
              "outlinewidth": 0,
              "ticks": ""
             }
            },
            "type": "scattercarpet"
           }
          ],
          "scattergeo": [
           {
            "marker": {
             "colorbar": {
              "outlinewidth": 0,
              "ticks": ""
             }
            },
            "type": "scattergeo"
           }
          ],
          "scattergl": [
           {
            "marker": {
             "colorbar": {
              "outlinewidth": 0,
              "ticks": ""
             }
            },
            "type": "scattergl"
           }
          ],
          "scattermap": [
           {
            "marker": {
             "colorbar": {
              "outlinewidth": 0,
              "ticks": ""
             }
            },
            "type": "scattermap"
           }
          ],
          "scattermapbox": [
           {
            "marker": {
             "colorbar": {
              "outlinewidth": 0,
              "ticks": ""
             }
            },
            "type": "scattermapbox"
           }
          ],
          "scatterpolar": [
           {
            "marker": {
             "colorbar": {
              "outlinewidth": 0,
              "ticks": ""
             }
            },
            "type": "scatterpolar"
           }
          ],
          "scatterpolargl": [
           {
            "marker": {
             "colorbar": {
              "outlinewidth": 0,
              "ticks": ""
             }
            },
            "type": "scatterpolargl"
           }
          ],
          "scatterternary": [
           {
            "marker": {
             "colorbar": {
              "outlinewidth": 0,
              "ticks": ""
             }
            },
            "type": "scatterternary"
           }
          ],
          "surface": [
           {
            "colorbar": {
             "outlinewidth": 0,
             "ticks": ""
            },
            "colorscale": [
             [
              0,
              "#0d0887"
             ],
             [
              0.1111111111111111,
              "#46039f"
             ],
             [
              0.2222222222222222,
              "#7201a8"
             ],
             [
              0.3333333333333333,
              "#9c179e"
             ],
             [
              0.4444444444444444,
              "#bd3786"
             ],
             [
              0.5555555555555556,
              "#d8576b"
             ],
             [
              0.6666666666666666,
              "#ed7953"
             ],
             [
              0.7777777777777778,
              "#fb9f3a"
             ],
             [
              0.8888888888888888,
              "#fdca26"
             ],
             [
              1,
              "#f0f921"
             ]
            ],
            "type": "surface"
           }
          ],
          "table": [
           {
            "cells": {
             "fill": {
              "color": "#EBF0F8"
             },
             "line": {
              "color": "white"
             }
            },
            "header": {
             "fill": {
              "color": "#C8D4E3"
             },
             "line": {
              "color": "white"
             }
            },
            "type": "table"
           }
          ]
         },
         "layout": {
          "annotationdefaults": {
           "arrowcolor": "#2a3f5f",
           "arrowhead": 0,
           "arrowwidth": 1
          },
          "autotypenumbers": "strict",
          "coloraxis": {
           "colorbar": {
            "outlinewidth": 0,
            "ticks": ""
           }
          },
          "colorscale": {
           "diverging": [
            [
             0,
             "#8e0152"
            ],
            [
             0.1,
             "#c51b7d"
            ],
            [
             0.2,
             "#de77ae"
            ],
            [
             0.3,
             "#f1b6da"
            ],
            [
             0.4,
             "#fde0ef"
            ],
            [
             0.5,
             "#f7f7f7"
            ],
            [
             0.6,
             "#e6f5d0"
            ],
            [
             0.7,
             "#b8e186"
            ],
            [
             0.8,
             "#7fbc41"
            ],
            [
             0.9,
             "#4d9221"
            ],
            [
             1,
             "#276419"
            ]
           ],
           "sequential": [
            [
             0,
             "#0d0887"
            ],
            [
             0.1111111111111111,
             "#46039f"
            ],
            [
             0.2222222222222222,
             "#7201a8"
            ],
            [
             0.3333333333333333,
             "#9c179e"
            ],
            [
             0.4444444444444444,
             "#bd3786"
            ],
            [
             0.5555555555555556,
             "#d8576b"
            ],
            [
             0.6666666666666666,
             "#ed7953"
            ],
            [
             0.7777777777777778,
             "#fb9f3a"
            ],
            [
             0.8888888888888888,
             "#fdca26"
            ],
            [
             1,
             "#f0f921"
            ]
           ],
           "sequentialminus": [
            [
             0,
             "#0d0887"
            ],
            [
             0.1111111111111111,
             "#46039f"
            ],
            [
             0.2222222222222222,
             "#7201a8"
            ],
            [
             0.3333333333333333,
             "#9c179e"
            ],
            [
             0.4444444444444444,
             "#bd3786"
            ],
            [
             0.5555555555555556,
             "#d8576b"
            ],
            [
             0.6666666666666666,
             "#ed7953"
            ],
            [
             0.7777777777777778,
             "#fb9f3a"
            ],
            [
             0.8888888888888888,
             "#fdca26"
            ],
            [
             1,
             "#f0f921"
            ]
           ]
          },
          "colorway": [
           "#636efa",
           "#EF553B",
           "#00cc96",
           "#ab63fa",
           "#FFA15A",
           "#19d3f3",
           "#FF6692",
           "#B6E880",
           "#FF97FF",
           "#FECB52"
          ],
          "font": {
           "color": "#2a3f5f"
          },
          "geo": {
           "bgcolor": "white",
           "lakecolor": "white",
           "landcolor": "#E5ECF6",
           "showlakes": true,
           "showland": true,
           "subunitcolor": "white"
          },
          "hoverlabel": {
           "align": "left"
          },
          "hovermode": "closest",
          "mapbox": {
           "style": "light"
          },
          "paper_bgcolor": "white",
          "plot_bgcolor": "#E5ECF6",
          "polar": {
           "angularaxis": {
            "gridcolor": "white",
            "linecolor": "white",
            "ticks": ""
           },
           "bgcolor": "#E5ECF6",
           "radialaxis": {
            "gridcolor": "white",
            "linecolor": "white",
            "ticks": ""
           }
          },
          "scene": {
           "xaxis": {
            "backgroundcolor": "#E5ECF6",
            "gridcolor": "white",
            "gridwidth": 2,
            "linecolor": "white",
            "showbackground": true,
            "ticks": "",
            "zerolinecolor": "white"
           },
           "yaxis": {
            "backgroundcolor": "#E5ECF6",
            "gridcolor": "white",
            "gridwidth": 2,
            "linecolor": "white",
            "showbackground": true,
            "ticks": "",
            "zerolinecolor": "white"
           },
           "zaxis": {
            "backgroundcolor": "#E5ECF6",
            "gridcolor": "white",
            "gridwidth": 2,
            "linecolor": "white",
            "showbackground": true,
            "ticks": "",
            "zerolinecolor": "white"
           }
          },
          "shapedefaults": {
           "line": {
            "color": "#2a3f5f"
           }
          },
          "ternary": {
           "aaxis": {
            "gridcolor": "white",
            "linecolor": "white",
            "ticks": ""
           },
           "baxis": {
            "gridcolor": "white",
            "linecolor": "white",
            "ticks": ""
           },
           "bgcolor": "#E5ECF6",
           "caxis": {
            "gridcolor": "white",
            "linecolor": "white",
            "ticks": ""
           }
          },
          "title": {
           "x": 0.05
          },
          "xaxis": {
           "automargin": true,
           "gridcolor": "white",
           "linecolor": "white",
           "ticks": "",
           "title": {
            "standoff": 15
           },
           "zerolinecolor": "white",
           "zerolinewidth": 2
          },
          "yaxis": {
           "automargin": true,
           "gridcolor": "white",
           "linecolor": "white",
           "ticks": "",
           "title": {
            "standoff": 15
           },
           "zerolinecolor": "white",
           "zerolinewidth": 2
          }
         }
        },
        "title": {
         "text": "3D Scatter Plot Example"
        }
       }
      }
     },
     "metadata": {},
     "output_type": "display_data"
    }
   ],
   "source": [
    "# 13.  Create a 3D scatter plot using Plotly.\n",
    "import plotly.graph_objects as go\n",
    "import numpy as np\n",
    "\n",
    "# Generate random 3D data\n",
    "np.random.seed(42)  # For reproducibility\n",
    "x = np.random.randn(100)\n",
    "y = np.random.randn(100)\n",
    "z = np.random.randn(100)\n",
    "\n",
    "# Create 3D scatter plot\n",
    "fig = go.Figure(data=[go.Scatter3d(\n",
    "    x=x, \n",
    "    y=y, \n",
    "    z=z,\n",
    "    mode='markers',\n",
    "    marker=dict(size=5, color=z, colorscale='Viridis', opacity=0.8)\n",
    ")])\n",
    "\n",
    "# Customize layout\n",
    "fig.update_layout(\n",
    "    title=\"3D Scatter Plot Example\",\n",
    "    scene=dict(\n",
    "        xaxis_title=\"X Axis\",\n",
    "        yaxis_title=\"Y Axis\",\n",
    "        zaxis_title=\"Z Axis\"\n",
    "    )\n",
    ")\n",
    "\n",
    "# Show the plot\n",
    "fig.show()"
   ]
  },
  {
   "cell_type": "code",
   "execution_count": null,
   "metadata": {},
   "outputs": [],
   "source": []
  }
 ],
 "metadata": {
  "kernelspec": {
   "display_name": "Python 3",
   "language": "python",
   "name": "python3"
  },
  "language_info": {
   "codemirror_mode": {
    "name": "ipython",
    "version": 3
   },
   "file_extension": ".py",
   "mimetype": "text/x-python",
   "name": "python",
   "nbconvert_exporter": "python",
   "pygments_lexer": "ipython3",
   "version": "3.13.1"
  }
 },
 "nbformat": 4,
 "nbformat_minor": 2
}
